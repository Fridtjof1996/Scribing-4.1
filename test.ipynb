{
  "nbformat": 4,
  "nbformat_minor": 0,
  "metadata": {
    "colab": {
      "name": "test.ipynb",
      "version": "0.3.2",
      "provenance": [],
      "collapsed_sections": [],
      "include_colab_link": true
    },
    "kernelspec": {
      "name": "python3",
      "display_name": "Python 3"
    }
  },
  "cells": [
    {
      "cell_type": "markdown",
      "metadata": {
        "id": "view-in-github",
        "colab_type": "text"
      },
      "source": [
        "<a href=\"https://colab.research.google.com/github/Fridtjof1996/Scribing-4.1/blob/master/test.ipynb\" target=\"_parent\"><img src=\"https://colab.research.google.com/assets/colab-badge.svg\" alt=\"Open In Colab\"/></a>"
      ]
    },
    {
      "metadata": {
        "id": "Abna9dvwxH9v",
        "colab_type": "code",
        "outputId": "9d1b6865-2012-4f17-c668-7c2ee4235d3b",
        "colab": {
          "base_uri": "https://localhost:8080/",
          "height": 34
        }
      },
      "cell_type": "code",
      "source": [
        "from scipy.stats import binom\n",
        "n = 100\n",
        "p = 0.4\n",
        "\t\t\t\t\n",
        "\t\t\t\n",
        "print (binom.pmf(42, n, p))\n",
        "\t\t\t\t\n",
        "x = range(n)\n",
        "p_x = [binom.pmf(val, n, p) for val in x]"
      ],
      "execution_count": 5,
      "outputs": [
        {
          "output_type": "stream",
          "text": [
            "0.07420719403438049\n"
          ],
          "name": "stdout"
        }
      ]
    },
    {
      "metadata": {
        "id": "xgtOWUFmynCi",
        "colab_type": "text"
      },
      "cell_type": "markdown",
      "source": [
        "## Hello World"
      ]
    },
    {
      "metadata": {
        "id": "bZ8IOz2yxrOj",
        "colab_type": "text"
      },
      "cell_type": "markdown",
      "source": [
        "# HI"
      ]
    },
    {
      "metadata": {
        "id": "bwQ-Iy7jySlj",
        "colab_type": "code",
        "colab": {}
      },
      "cell_type": "code",
      "source": [
        "import pandas as pd"
      ],
      "execution_count": 0,
      "outputs": []
    }
  ]
}