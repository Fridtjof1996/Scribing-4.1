{
  "nbformat": 4,
  "nbformat_minor": 0,
  "metadata": {
    "colab": {
      "name": "test.ipynb",
      "version": "0.3.2",
      "provenance": [],
      "collapsed_sections": [],
      "include_colab_link": true
    },
    "kernelspec": {
      "name": "python3",
      "display_name": "Python 3"
    }
  },
  "cells": [
    {
      "cell_type": "markdown",
      "metadata": {
        "id": "view-in-github",
        "colab_type": "text"
      },
      "source": [
        "<a href=\"https://colab.research.google.com/github/Fridtjof1996/Scribing-4.1/blob/master/test.ipynb\" target=\"_parent\"><img src=\"https://colab.research.google.com/assets/colab-badge.svg\" alt=\"Open In Colab\"/></a>"
      ]
    },
    {
      "metadata": {
        "id": "Abna9dvwxH9v",
        "colab_type": "code",
        "outputId": "a5814ae4-5022-46e3-a448-c6ef30370b7e",
        "colab": {
          "base_uri": "https://localhost:8080/",
          "height": 129
        }
      },
      "cell_type": "code",
      "source": [
        "\t\t\tfrom scipy.stats import binom\n",
        "\t\t\tn = 100\n",
        "\t\t\tp = 0.4\n",
        "\t\t\t\t\n",
        "\t\t\t\n",
        "    print (binom.pmf(42, n, p))\n",
        "\t\t\t\t\n",
        "\t\t\tx = range(n)\n",
        "\t\t\tp_x = [binom.pmf(val, n, p) for val in x]"
      ],
      "execution_count": 0,
      "outputs": [
        {
          "output_type": "error",
          "ename": "IndentationError",
          "evalue": "ignored",
          "traceback": [
            "\u001b[0;36m  File \u001b[0;32m\"<ipython-input-3-4a3689095476>\"\u001b[0;36m, line \u001b[0;32m6\u001b[0m\n\u001b[0;31m    print (binom.pmf(42, n, p))\u001b[0m\n\u001b[0m    ^\u001b[0m\n\u001b[0;31mIndentationError\u001b[0m\u001b[0;31m:\u001b[0m unexpected indent\n"
          ]
        }
      ]
    },
    {
      "metadata": {
        "id": "xgtOWUFmynCi",
        "colab_type": "text"
      },
      "cell_type": "markdown",
      "source": [
        "## Hello World"
      ]
    },
    {
      "metadata": {
        "id": "bZ8IOz2yxrOj",
        "colab_type": "text"
      },
      "cell_type": "markdown",
      "source": [
        "# HI"
      ]
    },
    {
      "metadata": {
        "id": "bwQ-Iy7jySlj",
        "colab_type": "code",
        "colab": {}
      },
      "cell_type": "code",
      "source": [
        "import pandas as pd"
      ],
      "execution_count": 0,
      "outputs": []
    }
  ]
}